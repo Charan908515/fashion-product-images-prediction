{
 "cells": [
  {
   "cell_type": "code",
   "execution_count": 2,
   "metadata": {
    "execution": {
     "iopub.execute_input": "2025-07-18T07:19:46.137214Z",
     "iopub.status.busy": "2025-07-18T07:19:46.137028Z",
     "iopub.status.idle": "2025-07-18T07:19:53.397820Z",
     "shell.execute_reply": "2025-07-18T07:19:53.397062Z",
     "shell.execute_reply.started": "2025-07-18T07:19:46.137198Z"
    },
    "trusted": true
   },
   "outputs": [],
   "source": [
    "import os\n",
    "import pandas as pd\n",
    "from PIL import Image\n",
    "import torch\n",
    "from torch.utils.data import Dataset, DataLoader\n",
    "from torchvision import transforms\n",
    "from sklearn.preprocessing import LabelEncoder\n",
    "from sklearn.model_selection import train_test_split\n",
    "import torchvision.models as models\n",
    "import torch.nn as nn\n",
    "import torch.optim as optim\n"
   ]
  },
  {
   "cell_type": "code",
   "execution_count": null,
   "metadata": {
    "execution": {
     "iopub.execute_input": "2025-07-18T07:19:53.399063Z",
     "iopub.status.busy": "2025-07-18T07:19:53.398640Z",
     "iopub.status.idle": "2025-07-18T07:19:53.745355Z",
     "shell.execute_reply": "2025-07-18T07:19:53.744579Z",
     "shell.execute_reply.started": "2025-07-18T07:19:53.399042Z"
    },
    "trusted": true
   },
   "outputs": [
    {
     "name": "stdout",
     "output_type": "stream",
     "text": [
      "Train size: 35535\n",
      "Validation size: 8884\n"
     ]
    }
   ],
   "source": [
    "import pandas as pd\n",
    "import os\n",
    "\n",
    "\n",
    "csv_path = '/kaggle/input/fashion-product-images-dataset/fashion-dataset/styles.csv'# the path of the  CSV file in the kaggle dataset\n",
    "image_dir = '/kaggle/input/fashion-product-images-dataset/fashion-dataset/images' # the path of the images folder in the kaggle dataset\n",
    "\n",
    "df = pd.read_csv(csv_path, on_bad_lines='skip', engine='python')\n",
    "\n",
    "\n",
    "df.columns = df.columns.str.strip()\n",
    "\n",
    "\n",
    "available_images = set([f.split('.')[0] for f in os.listdir(image_dir)])\n",
    "df = df[df['id'].astype(str).isin(available_images)].reset_index(drop=True)\n",
    "\n",
    "# encode labels\n",
    "from sklearn.preprocessing import LabelEncoder\n",
    "label_encoders = {}\n",
    "for col in ['baseColour', 'articleType', 'season', 'gender']:\n",
    "    le = LabelEncoder()\n",
    "    df[col + '_enc'] = le.fit_transform(df[col])\n",
    "    label_encoders[col] = le\n",
    "\n",
    "from sklearn.model_selection import train_test_split\n",
    "train_df, val_df = train_test_split(df, test_size=0.2, random_state=42, shuffle=True)\n",
    "train_df = train_df.reset_index(drop=True)\n",
    "val_df   = val_df.reset_index(drop=True)\n",
    "\n",
    "print(\"Train size:\", len(train_df))\n",
    "print(\"Validation size:\", len(val_df))\n"
   ]
  },
  {
   "cell_type": "markdown",
   "metadata": {},
   "source": [
    "# Dataset Creation\n",
    " I had created the fashion dataset having image and labels,a dictionary contain the season,basecolor,gender,articleType  and applied the data augmentation to the images for training and validation data having 128 images as a batch "
   ]
  },
  {
   "cell_type": "code",
   "execution_count": 4,
   "metadata": {
    "execution": {
     "iopub.execute_input": "2025-07-18T07:19:53.747222Z",
     "iopub.status.busy": "2025-07-18T07:19:53.747001Z",
     "iopub.status.idle": "2025-07-18T07:19:53.753030Z",
     "shell.execute_reply": "2025-07-18T07:19:53.752208Z",
     "shell.execute_reply.started": "2025-07-18T07:19:53.747204Z"
    },
    "trusted": true
   },
   "outputs": [],
   "source": [
    "class FashionDataset(Dataset):\n",
    "    def __init__(self, dataframe, image_dir, transform=None):\n",
    "        self.df = dataframe\n",
    "        self.image_dir = image_dir\n",
    "        self.transform = transform\n",
    "\n",
    "    def __len__(self):\n",
    "        return len(self.df)\n",
    "\n",
    "    def __getitem__(self, idx):\n",
    "        row = self.df.iloc[idx]\n",
    "        img_path = os.path.join(self.image_dir, str(row['id']) + '.jpg')\n",
    "        image = Image.open(img_path).convert('RGB')\n",
    "        if self.transform:\n",
    "            image = self.transform(image)\n",
    "\n",
    "        labels = {\n",
    "            'baseColour': row['baseColour_enc'],\n",
    "            'articleType': row['articleType_enc'],\n",
    "            'season': row['season_enc'],\n",
    "            'gender': row['gender_enc'],\n",
    "        }\n",
    "        return image, labels\n"
   ]
  },
  {
   "cell_type": "code",
   "execution_count": 10,
   "metadata": {
    "execution": {
     "iopub.execute_input": "2025-07-18T07:20:43.312491Z",
     "iopub.status.busy": "2025-07-18T07:20:43.312195Z",
     "iopub.status.idle": "2025-07-18T07:20:43.318329Z",
     "shell.execute_reply": "2025-07-18T07:20:43.317711Z",
     "shell.execute_reply.started": "2025-07-18T07:20:43.312469Z"
    },
    "trusted": true
   },
   "outputs": [],
   "source": [
    "train_transforms = transforms.Compose([\n",
    "    transforms.Resize((224, 224)),\n",
    "    transforms.RandomHorizontalFlip(),\n",
    "    transforms.RandomRotation(15),\n",
    "    transforms.ColorJitter(brightness=0.2, contrast=0.2, saturation=0.2),\n",
    "    transforms.RandomResizedCrop(224, scale=(0.8, 1.0)),\n",
    "    transforms.ToTensor(),\n",
    "])\n",
    "transform_val = transforms.Compose([\n",
    "    transforms.Resize((224, 224)),             # resize for validation (no randomness)\n",
    "    transforms.ToTensor(),\n",
    "    \n",
    "])\n",
    "\n",
    "train_dataset = FashionDataset(train_df, image_dir, train_transforms)\n",
    "val_dataset = FashionDataset(val_df, image_dir, transform_val)\n",
    "\n",
    "train_loader = DataLoader(train_dataset, batch_size=128, shuffle=True, num_workers=4)\n",
    "val_loader = DataLoader(val_dataset, batch_size=128, shuffle=False, num_workers=4)\n"
   ]
  },
  {
   "cell_type": "markdown",
   "metadata": {},
   "source": [
    "# Model Defination\n",
    "\n",
    "#### for this i used the ResNet50 as a base model(removed the final layer).After feature extraction,I applied the  averagepooling and after that there is a feed forwad layer with relu activation function ,batchnormalization for normalizing thr batch values and a dropout to prevent overfitting.\n",
    "#### The output of the feed formward layer (512) is given to 4 seperate output layers (feed forward) each one predict one of the 4 labels\n",
    "\n",
    "#### I used cross entropy for claculating  loss of 4 output layer and the optimizer is Adam"
   ]
  },
  {
   "cell_type": "code",
   "execution_count": null,
   "metadata": {
    "execution": {
     "iopub.execute_input": "2025-07-18T07:19:53.770919Z",
     "iopub.status.busy": "2025-07-18T07:19:53.770583Z",
     "iopub.status.idle": "2025-07-18T07:19:53.788599Z",
     "shell.execute_reply": "2025-07-18T07:19:53.787916Z",
     "shell.execute_reply.started": "2025-07-18T07:19:53.770895Z"
    },
    "trusted": true
   },
   "outputs": [],
   "source": [
    "import torch\n",
    "import torch.nn as nn\n",
    "import torchvision.models as models\n",
    "\n",
    "class MultiOutputModel(nn.Module):\n",
    "    def __init__(self, num_colors, num_types, num_seasons, num_genders):\n",
    "        super(MultiOutputModel, self).__init__()\n",
    "\n",
    "        \n",
    "        base_model = models.resnet50(weights=models.ResNet50_Weights.IMAGENET1K_V2)\n",
    "        self.backbone = nn.Sequential(*list(base_model.children())[:-2])  # till conv5_x\n",
    "\n",
    "        self.pool = nn.AdaptiveAvgPool2d((1, 1))\n",
    "        self.flatten = nn.Flatten()\n",
    "        self.shared_fc = nn.Sequential(\n",
    "            nn.Linear(2048, 512),\n",
    "            nn.ReLU(),\n",
    "            nn.BatchNorm1d(512),\n",
    "            nn.Dropout(0.3),\n",
    "        )\n",
    "\n",
    "        \n",
    "        self.color_head = nn.Linear(512, num_colors)\n",
    "        self.type_head = nn.Linear(512, num_types)\n",
    "        self.season_head = nn.Linear(512, num_seasons)\n",
    "        self.gender_head = nn.Linear(512, num_genders)\n",
    "\n",
    "    def forward(self, x):\n",
    "        x = self.backbone(x)    # [B, 2048, H/32, W/32]\n",
    "        x = self.pool(x)        # [B, 2048, 1, 1]\n",
    "        x = self.flatten(x)     # [B, 2048]\n",
    "        x = self.shared_fc(x)   # [B, 512]\n",
    "\n",
    "        return {\n",
    "            'baseColour': self.color_head(x),\n",
    "            'articleType': self.type_head(x),\n",
    "            'season': self.season_head(x),\n",
    "            \n",
    "            'gender': self.gender_head(x),\n",
    "        }\n"
   ]
  },
  {
   "cell_type": "code",
   "execution_count": 7,
   "metadata": {
    "execution": {
     "iopub.execute_input": "2025-07-18T07:19:58.933054Z",
     "iopub.status.busy": "2025-07-18T07:19:58.932507Z",
     "iopub.status.idle": "2025-07-18T07:20:00.258649Z",
     "shell.execute_reply": "2025-07-18T07:20:00.258101Z",
     "shell.execute_reply.started": "2025-07-18T07:19:58.933032Z"
    },
    "trusted": true
   },
   "outputs": [
    {
     "name": "stderr",
     "output_type": "stream",
     "text": [
      "Downloading: \"https://download.pytorch.org/models/resnet50-11ad3fa6.pth\" to /root/.cache/torch/hub/checkpoints/resnet50-11ad3fa6.pth\n",
      "100%|██████████| 97.8M/97.8M [00:00<00:00, 211MB/s]\n"
     ]
    }
   ],
   "source": [
    "model = MultiOutputModel(\n",
    "    num_colors=len(label_encoders['baseColour'].classes_),\n",
    "    num_types=len(label_encoders['articleType'].classes_),\n",
    "    num_seasons=len(label_encoders['season'].classes_),\n",
    "    num_genders=len(label_encoders['gender'].classes_),\n",
    ").cuda()\n"
   ]
  },
  {
   "cell_type": "code",
   "execution_count": 8,
   "metadata": {
    "execution": {
     "iopub.execute_input": "2025-07-18T07:20:02.002504Z",
     "iopub.status.busy": "2025-07-18T07:20:02.002227Z",
     "iopub.status.idle": "2025-07-18T07:20:02.007372Z",
     "shell.execute_reply": "2025-07-18T07:20:02.006510Z",
     "shell.execute_reply.started": "2025-07-18T07:20:02.002480Z"
    },
    "trusted": true
   },
   "outputs": [],
   "source": [
    "\n",
    "\n",
    "criterion = nn.CrossEntropyLoss()\n",
    "\n",
    "\n",
    "\n",
    "optimizer = optim.Adam(model.parameters(), lr=1e-4)\n"
   ]
  },
  {
   "cell_type": "markdown",
   "metadata": {},
   "source": [
    "# Model Training \n",
    "#### used tqdm for showing the progress of each epoch\n",
    "\n",
    "#### implemented early stopping based on validation loss\n",
    "\n",
    "#### saved the model after each epoch and also the best model (based on validation loss)"
   ]
  },
  {
   "cell_type": "code",
   "execution_count": null,
   "metadata": {
    "execution": {
     "iopub.execute_input": "2025-07-18T07:20:06.167878Z",
     "iopub.status.busy": "2025-07-18T07:20:06.167497Z",
     "iopub.status.idle": "2025-07-18T07:20:06.179000Z",
     "shell.execute_reply": "2025-07-18T07:20:06.178135Z",
     "shell.execute_reply.started": "2025-07-18T07:20:06.167853Z"
    },
    "trusted": true
   },
   "outputs": [],
   "source": [
    "from tqdm import tqdm\n",
    "import time\n",
    "import torch\n",
    "import os\n",
    "\n",
    "def train_model(model, train_loader, val_loader, criterion, optimizer, epochs, patience=6, model_path=\"best_model.pth\"):\n",
    "    model.cuda()\n",
    "    best_val_loss = float('inf')\n",
    "    patience_counter = 0\n",
    "\n",
    "    for epoch in range(epochs):\n",
    "        print(f\"\\nEpoch {epoch+1}/{epochs}\")\n",
    "        model.train()\n",
    "        running_loss = 0.0\n",
    "\n",
    "        # Training loop with progress bar\n",
    "        start_time = time.time()\n",
    "        train_progress = tqdm(train_loader, desc=\"Training\", leave=False)\n",
    "\n",
    "        for images, labels in train_progress:\n",
    "            images = images.cuda()\n",
    "            labels = {k: v.cuda() for k, v in labels.items()}\n",
    "\n",
    "            optimizer.zero_grad()\n",
    "            outputs = model(images)\n",
    "\n",
    "            loss = (\n",
    "                criterion(outputs['baseColour'], labels['baseColour']) +\n",
    "                criterion(outputs['articleType'], labels['articleType']) +\n",
    "                criterion(outputs['season'], labels['season']) +\n",
    "                criterion(outputs['gender'], labels['gender'])\n",
    "            )\n",
    "\n",
    "            loss.backward()\n",
    "            optimizer.step()\n",
    "\n",
    "            running_loss += loss.item()\n",
    "            train_progress.set_postfix(loss=loss.item())\n",
    "\n",
    "        avg_train_loss = running_loss / len(train_loader)\n",
    "        print(f\"Training Loss: {avg_train_loss:.4f} | Time: {(time.time() - start_time):.2f}s\")\n",
    "\n",
    "        \n",
    "        model.eval()\n",
    "        val_loss = 0.0\n",
    "        with torch.no_grad():\n",
    "            val_progress = tqdm(val_loader, desc=\"Validation\", leave=False)\n",
    "            for images, labels in val_progress:\n",
    "                images = images.cuda()\n",
    "                labels = {k: v.cuda() for k, v in labels.items()}\n",
    "                outputs = model(images)\n",
    "\n",
    "                loss = (\n",
    "                    criterion(outputs['baseColour'], labels['baseColour']) +\n",
    "                    criterion(outputs['articleType'], labels['articleType']) +\n",
    "                    criterion(outputs['season'], labels['season']) +\n",
    "                    criterion(outputs['gender'], labels['gender'])\n",
    "                )\n",
    "\n",
    "                val_loss += loss.item()\n",
    "\n",
    "        avg_val_loss = val_loss / len(val_loader)\n",
    "        print(f\"Validation Loss: {avg_val_loss:.4f}\")\n",
    "\n",
    "        \n",
    "        torch.save(model.state_dict(), f\"model_epoch_{epoch+1}.pth\")\n",
    "\n",
    "        \n",
    "        if avg_val_loss < best_val_loss:\n",
    "            best_val_loss = avg_val_loss\n",
    "            patience_counter = 0\n",
    "            torch.save(model.state_dict(), model_path)  # Save best model\n",
    "            print(\" Best model updated and saved.\")\n",
    "        else:\n",
    "            patience_counter += 1\n",
    "            print(f\"Early stopping patience: {patience_counter}/{patience}\")\n",
    "            if patience_counter >= patience:\n",
    "                print(\" Early stopping triggered.\")\n",
    "                break\n"
   ]
  },
  {
   "cell_type": "code",
   "execution_count": null,
   "metadata": {
    "execution": {
     "iopub.execute_input": "2025-07-18T07:20:53.478687Z",
     "iopub.status.busy": "2025-07-18T07:20:53.478398Z",
     "iopub.status.idle": "2025-07-18T10:06:47.465339Z",
     "shell.execute_reply": "2025-07-18T10:06:47.464470Z",
     "shell.execute_reply.started": "2025-07-18T07:20:53.478649Z"
    },
    "trusted": true
   },
   "outputs": [],
   "source": [
    "train_model(model, train_loader, val_loader, criterion, optimizer, epochs=40)\n",
    "\n"
   ]
  },
  {
   "cell_type": "markdown",
   "metadata": {},
   "source": [
    "# Testing"
   ]
  },
  {
   "cell_type": "code",
   "execution_count": null,
   "metadata": {
    "execution": {
     "iopub.execute_input": "2025-07-18T10:46:54.815276Z",
     "iopub.status.busy": "2025-07-18T10:46:54.814538Z",
     "iopub.status.idle": "2025-07-18T10:46:54.914759Z",
     "shell.execute_reply": "2025-07-18T10:46:54.914006Z",
     "shell.execute_reply.started": "2025-07-18T10:46:54.815252Z"
    },
    "trusted": true
   },
   "outputs": [
    {
     "name": "stdout",
     "output_type": "stream",
     "text": [
      "Predicted Base Colour: Black\n",
      "Predicted Article Type: Tshirts\n",
      "Predicted Season: Fall\n",
      "Predicted Gender: Men\n"
     ]
    }
   ],
   "source": [
    "img_path4=\"/kaggle/input/testing/41zOk4RLI-L.AC_SX250.jpg\"\n",
    "image = Image.open(img_path4).convert('RGB')\n",
    "image = transform_val(image).unsqueeze(0).to(\"cuda\")\n",
    "with torch.no_grad():\n",
    "    outputs = model(image)\n",
    "\n",
    "baseColour_decoder = label_encoders['baseColour'].classes_\n",
    "articleType_decoder = label_encoders['articleType'].classes_\n",
    "season_decoder = label_encoders['season'].classes_\n",
    "gender_decoder = label_encoders['gender'].classes_\n",
    "\n",
    "baseColour_pred = torch.argmax(outputs['baseColour'], dim=1).item()\n",
    "articleType_pred = torch.argmax(outputs['articleType'], dim=1).item()\n",
    "season_pred = torch.argmax(outputs['season'], dim=1).item()\n",
    "gender_pred = torch.argmax(outputs['gender'], dim=1).item()\n",
    "\n",
    "\n",
    "\n",
    "print(\"Predicted Base Colour:\", baseColour_decoder[baseColour_pred])\n",
    "print(\"Predicted Article Type:\", articleType_decoder[articleType_pred])\n",
    "print(\"Predicted Season:\", season_decoder[season_pred])\n",
    "print(\"Predicted Gender:\", gender_decoder[gender_pred])\n"
   ]
  },
  {
   "cell_type": "code",
   "execution_count": null,
   "metadata": {
    "trusted": true
   },
   "outputs": [],
   "source": []
  }
 ],
 "metadata": {
  "kaggle": {
   "accelerator": "gpu",
   "dataSources": [
    {
     "datasetId": 139630,
     "sourceId": 329006,
     "sourceType": "datasetVersion"
    },
    {
     "datasetId": 7890019,
     "sourceId": 12501379,
     "sourceType": "datasetVersion"
    }
   ],
   "dockerImageVersionId": 31089,
   "isGpuEnabled": true,
   "isInternetEnabled": true,
   "language": "python",
   "sourceType": "notebook"
  },
  "kernelspec": {
   "display_name": "Python 3",
   "language": "python",
   "name": "python3"
  },
  "language_info": {
   "codemirror_mode": {
    "name": "ipython",
    "version": 3
   },
   "file_extension": ".py",
   "mimetype": "text/x-python",
   "name": "python",
   "nbconvert_exporter": "python",
   "pygments_lexer": "ipython3",
   "version": "3.11.13"
  }
 },
 "nbformat": 4,
 "nbformat_minor": 4
}
